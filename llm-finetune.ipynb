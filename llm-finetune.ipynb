{
 "cells": [
  {
   "cell_type": "markdown",
   "id": "b9225b6f",
   "metadata": {},
   "source": [
    "# Anand Mysorekar Quantamind Take Home Assignment"
   ]
  }
 ],
 "metadata": {
  "kernelspec": {
   "display_name": "test",
   "language": "python",
   "name": "python3"
  },
  "language_info": {
   "name": "python",
   "version": "3.11.13"
  }
 },
 "nbformat": 4,
 "nbformat_minor": 5
}
